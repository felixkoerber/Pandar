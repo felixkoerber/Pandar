{
 "cells": [
  {
   "cell_type": "markdown",
   "id": "69af18f8",
   "metadata": {},
   "source": [
    "# PsyBSc 2\n",
    "## Statistik I\n",
    "In PsyBSc 2 geht es um die erste Einführung in die Statistik im Psychologiestudium. Dafür betrachten wir die Grundstruktur von R, Datenimport, einfache Grafiken, Deskriptivstatistiken, Verteilungsfunktionen und einige Tests. Das dazugehörige Material taucht im Verlauf des Semesters hier auf.\n"
   ]
  },
  {
   "cell_type": "markdown",
   "id": "9d91eeec",
   "metadata": {},
   "source": [
    "Sitzung | Thema\t| Aufgaben\t| Lösungen \n",
    "----- |----- |----- |----- \n",
    "1 | [**R-Intro**](R-Crash-Kurs.ipynb) | [Aufgaben](R-Crash-Kurs.ipynb)\t| [Lösungen](R-Crash-Kurs.ipynb) \n",
    "2 | **Deskriptivstatistik für Nominal- und Ordinalskalen**\t| Aufgaben\t| Lösungen \n",
    "3 | **Deskriptivstatistik für Intervallskalen**\t| Aufgaben\t| Lösungen \n",
    "4 | **Verteilungen**\t| Aufgaben\t| Lösungen \n",
    "5 | **Tests und Konfidenzintervalle**\t| Aufgaben\t| Lösungen \n",
    "6 | **Tests für unabhängige Stichproben**\t| Aufgaben\t| Lösungen \n",
    "7 | **Tests für abhängige Stichproben**\t| Aufgaben\t| Lösungen \n",
    "8 | **Korrelation** | Aufgaben\t| Lösungen \n",
    "9 | **Regression** | Aufgaben\t| Lösungen \n",
    "10 | **Simulation und Poweranalyse** | Aufgaben\t| Lösungen \n"
   ]
  },
  {
   "cell_type": "markdown",
   "id": "d5adbc2d",
   "metadata": {},
   "source": [
    "Die Umfrage aus der ersten Woche gibt es [hier](https://psybsc2.formr.org/). Die Daten, die dabei in der ersten Sitzung entstanden sind, können Sie [hier im RDA Format](https://pandar.netlify.app/post/fb21.rda) und [hier im CSV Format](https://pandar.netlify.app/post/fb21.csv) herunterladen. Was welche Variablen in diesem Datensatz bedeutet, wird in der [Variablenübersicht](https://pandar.netlify.app/post/variablen.pdf) erläutert."
   ]
  }
 ],
 "metadata": {
  "kernelspec": {
   "display_name": "Python 3 (ipykernel)",
   "language": "python",
   "name": "python3"
  },
  "language_info": {
   "codemirror_mode": {
    "name": "ipython",
    "version": 3
   },
   "file_extension": ".py",
   "mimetype": "text/x-python",
   "name": "python",
   "nbconvert_exporter": "python",
   "pygments_lexer": "ipython3",
   "version": "3.9.7"
  }
 },
 "nbformat": 4,
 "nbformat_minor": 5
}
