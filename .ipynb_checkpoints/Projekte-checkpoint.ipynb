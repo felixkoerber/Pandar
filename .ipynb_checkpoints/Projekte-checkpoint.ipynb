{
 "cells": [
  {
   "cell_type": "markdown",
   "id": "f134e619",
   "metadata": {},
   "source": [
    "# Projekte\n",
    "\n",
    "## Überblick\n",
    "\n",
    "<span style= 'color:Gray'> Auf dieser Überblicksseite findest du alle Projekte, die wir bisher erstellt haben. Jedes Projekt ist in vier Abschnitte gegliedert: Übersicht, Problemstellung, Tipps und Lösungen. Die ersten beiden stellen das jeweilige Projekt inhaltlich vor und schildern die Probleme, die in der Bewältigung auftreten könnten. Bei den Tipps gibt es kleine Hilfestellungen, wenn du an irgendeiner Stelle nicht weiterkommen solltest. Die Lösungen zeigen dann letztlich, wie wir dieses Projekt bearbeitet haben.\n",
    "Wenn du dir die Projekte anschaust, dann ist es nicht zwingend notwendig, sie in der präsentierten Reihenfolge durchzugehen. Generell werden die Projekte zwar nach unten hin etwas schwieriger, aber keines erfordert explizit die Bearbeitung eines vorhergehenden Projekts, weshalb alle weitestgehend unabhängig voneinander bearbeitet werden können. Falls du erst noch einen Blick in die Auffrischung werfen willst, findest du hier ein paar zusätzliche Inhalte. </span>\n",
    "\n",
    "\n"
   ]
  }
 ],
 "metadata": {
  "kernelspec": {
   "display_name": "Python 3 (ipykernel)",
   "language": "python",
   "name": "python3"
  },
  "language_info": {
   "codemirror_mode": {
    "name": "ipython",
    "version": 3
   },
   "file_extension": ".py",
   "mimetype": "text/x-python",
   "name": "python",
   "nbconvert_exporter": "python",
   "pygments_lexer": "ipython3",
   "version": "3.9.7"
  }
 },
 "nbformat": 4,
 "nbformat_minor": 5
}
