{
 "cells": [
  {
   "cell_type": "markdown",
   "id": "e5e1a683",
   "metadata": {},
   "source": [
    "# Vorhaben\n",
    "\n",
    "Die Entwicklung der Website fand zunächst ab 2019 im Rahmen der Entwicklung von Projekten in R statt, in denen der Einsatz über die häufig im normalen Curriculum des Studiums behandelten Grundlagen hinaus erlernt werden kann. Die Projekte bieten die Möglichkeit, sich in ein Projekt zu vertiefen und R Fähigkeiten daran auszuprobieren. Dabei können sich eigenständig Kompetenzen angeeignet werden, die für das zukünftige Arbeiten mit R in einem immer stärker datengeleiteten Arbeitsalltag sehr wichtig sein können. Die umfangreichen Projekte decken dabei eine weite Bandbreite an möglichen Themen ab (von der Darstellung von Suchanfragen zu politischen Parteien bis zum Programmieren eines eigenen Sudoku-Generators).\n",
    "\n",
    "Die Idee ist dabei, dass wir für jedes dieser Projekte zunächst die inhaltliche Frage oder das Problem schildern und dir im Anschluss grob zeigen, welche Schritte bei der Umsetzung genommen werden können. Bei der Umsetzung in R bist du dann aber komplett auf dich allein gestellt! Oder - fast: wir geben zu jedem Projekt eine Seite mit Tipps, die dir weiterhelfen können, wenn du irgendwo stecken bleibst. Die Projekte können jederzeit und in jeder Reihenfolge bearbeitet und ausprobiert werden!\n",
    "\n",
    "Als zweiten großen Punkt stellen wir seit 2020 auch Lehrmaterialien zum Einsatz von R in der Analyse psychologischer Fragestellungen zur Verfügung. Im Sinne der Idee der Open Educational Ressources hat sich eine breit Menge an Themen angesammelt, die in Tutorials aber auch Aufgaben und zugehörigen Lösungen untergliedert sind. Insgesamt sind bereits Materialien aus 6 Modulen der Studiengänge des Instuts für Psychologie der Goethe-Universität integriert.\n",
    "\n",
    "Wenn du Rückmeldungen zu den Projekten oder der Seite als Ganzem hast, melde dich einfach über das Kontakformular bei uns!"
   ]
  }
 ],
 "metadata": {
  "kernelspec": {
   "display_name": "Python 3 (ipykernel)",
   "language": "python",
   "name": "python3"
  },
  "language_info": {
   "codemirror_mode": {
    "name": "ipython",
    "version": 3
   },
   "file_extension": ".py",
   "mimetype": "text/x-python",
   "name": "python",
   "nbconvert_exporter": "python",
   "pygments_lexer": "ipython3",
   "version": "3.8.10"
  }
 },
 "nbformat": 4,
 "nbformat_minor": 5
}