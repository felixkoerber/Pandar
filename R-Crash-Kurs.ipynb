{
 "cells": [
  {
   "cell_type": "markdown",
   "id": "923e3d92",
   "metadata": {},
   "source": [
    "# R Crash-Kurs\n",
    "## Inhalte \n",
    "```{admonition} Kernfragen dieses Beitrags\n",
    ":class: dropdown\n",
    "    - Was ist R und was ist RStudio?\n",
    "    - Was ist die Konsole und was ist die Syntax?\n",
    "    - Wie kann ich Syntax ausführen?\n",
    "    - Wie sehen Ergebnisse von Befehlen in R aus?\n",
    "    - Wie kann ich R als Taschenrechner und für logische Vergleiche benutzen?\n",
    "    - Was sind Funktionen und wie sind sie aufgebaut?\n",
    "    - Wie bekomme ich in R Hilfe?\n",
    "    - Was sind Objekte?\n",
    "    - Was ist das Environment?\n",
    "    - Was sind Vektoren und welche unterschiedlichen Arten gibt es?\n",
    "    - Welche mehrdimensionalen Datenstrukturen gibt es und worin unterscheiden sie sich?\n",
    "    - Wie kann ich aus Datensätze einzelne Variablen oder Beobachtungen extrahieren und sie hinzufügen?\n",
    "    - Wie importiere und exportiere ich Daten?\n",
    "```\n",
    "### Warum R?\n",
    "Ziel dieses gesamten R-Praktikums ist es, dass Sie am Ende des Semester geübt im Umgang mit R sind, die Grundfunktionalität beherrschen und die Analyseverfahren durchführen können, die in der Vorlesung behandelt werden. Damit wir - oder genauer genommen, eigentlich Sie - dieses Ziel erreichen, legen wir hier mit einer “kurzen” Einführung in die Grundprinzipien von und den Umgang mit R los. Viele Dinge, die hier besprochen werden, sind auch in den anderen Sitzungen zu dieser Veranstaltung relevant und werden dort immer wieder vor kommen. Deswegen ist es das Beste, einfach nebenbei RStudio auf zu haben und die hier beschriebenen Schritte auch direkt selbst mit zu machen.\n",
    "\n",
    "Zuerst aber ein bisschen ausholen: R haben wir für die Lehre aus einer Reihe von Programmen ausgewählt, weil es ein paar hervorragende Eigenschaften hat:\n",
    "\n",
    "   - R ist “free & free”\n",
    "        - “Free (as in beer)”: gratis verfügbar, für jeden zugänglich\n",
    "        - “Free (as in speech)”: durch die Öffentlichkeit, nicht durch einzelne Instanz reguliert\n",
    "   - Extrem weit verbreitet\n",
    "   - Laut Google Scholar knapp 250 000 mal zitiert\n",
    "   - Allein in den letzten 30 Tagen 478666 mal heruntergeladen\n",
    "   - Für Hausarbeiten, Projekte, Abschlussarbeiten gut geeignet\n",
    "   - Auswertung und Fließtext in einer Datei (wie dieser) vereinbar\n",
    "   - Wiederherstellbarer Arbeitsablauf\n",
    "   - Mit jedem teilbar\n",
    "   - Auch außerhalb der Universität und Forschung eine gefragte Fähigkeit\n",
    "\n",
    "> Ein paar nützliche Links für R sind die R Main Page, wo R runtergeladen werden kann und diverse technische Details zu finden sind. Für eine kurze, schnelle Einführung in verschiede R-relevante Themen bietet sich Quick R und, spezifisch für die Psychologie, das Personality Project an. Eine Einführung in die R-Nutzung, an die auch dieses Skript angelehnt ist, findet sich im repository Scientific Methods for Open Behavioral, Social and Cognitive Sciences.\n",
    "\n",
    "---"
   ]
  },
  {
   "cell_type": "markdown",
   "id": "4e46eeaf",
   "metadata": {},
   "source": [
    "### RStudio\n",
    "\n",
    "Weil die traditionelle R Nutzeroberfläche extrem spartanisch ist, werden wir auf dieser Seite mit RStudio arbeiten. RStudio ist eine zusätzliche Nutzeroberfläche, die den Umgang durch diverse convenience features mit R ein wenig erleichtert. Es muss separat installiert werden, ist aber, genau wie R selbst, gratis erhältlich. Um RStudio herunterzuladen besuchen Sie am einfachsten https://www.rstudio.com/."
   ]
  },
  {
   "cell_type": "markdown",
   "id": "10650af8",
   "metadata": {},
   "source": [
    "```{image} ../pandar/images/rstudio.png\n",
    ":alt: fishy\n",
    ":class: bg-primary mb-1\n",
    ":width: 600px\n",
    ":align: center\n",
    "```"
   ]
  },
  {
   "cell_type": "markdown",
   "id": "2be77344",
   "metadata": {},
   "source": [
    "RStudio besteht aus vier Panels. Zunächst sind nur drei sichtbar - durch `Strg+Shift+n` (OS X: `Cmd+Shift+n`) oder über den \n",
    "```{image} ../pandar/images/new_script.png\n",
    ":alt: new_script\n",
    ":class: bg-primary mb-1\n",
    ":width: 200px\n",
    ":align: center\n",
    "```\n",
    "Button öffnen Sie eine neue Skriptdatei und das vierte Panel erscheint. R ist syntaxbasiert - genau genommen ist R eigentlich eine Programmiersprache und kein Auswertungsprogramm - und im neu erschienenen Fenster können Sie diese Syntax schreiben. Das pure schreiben bewirkt zunächst nichts. Damit etwas passiert, muss die Syntax mit `Strg+Return` (OS X: `cmd+Return`) oder mit dem\n",
    "```{image} ../pandar/images/run.png\n",
    ":alt: run\n",
    ":class: bg-primary mb-1\n",
    ":width: 200px\n",
    ":align: center\n",
    "```\n",
    "Button ausgeführt werden. Wenn Sie z.B. 3 + 4 in die Syntax schreiben und so ausführen, erscheint in der Konsole:"
   ]
  },
  {
   "cell_type": "code",
   "execution_count": 1,
   "id": "00815274",
   "metadata": {
    "celltoolbar": "Edit Metadata",
    "kernelspec": {
     "display_name": "R",
     "language": "R",
     "name": "ir"
    },
    "language_info": {
     "codemirror_mode": "r",
     "file_extension": ".r",
     "mimetype": "text/x-r-source",
     "name": "R",
     "pygments_lexer": "r",
     "version": "4.2.1"
    },
    "tags": [],
    "vscode": {
     "interpreter": {
      "hash": "d560ba8d507c54a01f2f7ed33b1ad7c3fc56f06723f11412b74cfa1ed27a6faa"
     }
    }
   },
   "outputs": [
    {
     "data": {
      "text/plain": [
       "7"
      ]
     },
     "execution_count": 1,
     "metadata": {},
     "output_type": "execute_result"
    }
   ],
   "source": [
    "3 + 4"
   ]
  },
  {
   "cell_type": "markdown",
   "id": "22987649",
   "metadata": {},
   "source": [
    "---\n",
    "### Erste Schritte\n",
    "Eine wichtige Funktionalität jeder Programmiersprache sind Kommentare, die dazu dienen sollen das Vorgehen in Syntax zu gliedern und leichter verständlich zu machen. In R werden sie durch (beliebig viele) `#` begonnen und enden bei einem Zeilenumbruch. Mit Kommentaren kann Syntax auch in verschiedene Abschnitte gegliedert werden. Empfehlenswert ist es, solche Abschnittüberschriften mit `####` zu beginnen und mit `----` zu beenden. RStudio erkennt solche Kommentare automatisch als Überschriften und stellt über den\n",
    "\n",
    "```{image} ../pandar/images/outline.png\n",
    ":alt: outline\n",
    ":class: bg-primary mb-1\n",
    ":width: 200px\n",
    ":align: center\n",
    "```\n",
    "Button eine darauf basierende Gliederung zur Verfügung.\n",
    "\n",
    "Wir können diese Funktionalität der Kommentare am Beispiel der Nutzung von R als Taschenrechner ausprobieren:"
   ]
  },
  {
   "cell_type": "code",
   "execution_count": 2,
   "id": "e28dc272",
   "metadata": {},
   "outputs": [
    {
     "data": {
      "text/plain": [
       "7"
      ]
     },
     "execution_count": 2,
     "metadata": {},
     "output_type": "execute_result"
    }
   ],
   "source": [
    "#### R als Taschenrechner ----\n",
    "\n",
    "3 + 4   # Addition"
   ]
  },
  {
   "cell_type": "code",
   "execution_count": 3,
   "id": "2418c3c7",
   "metadata": {},
   "outputs": [
    {
     "data": {
      "text/plain": [
       "-1"
      ]
     },
     "execution_count": 3,
     "metadata": {},
     "output_type": "execute_result"
    }
   ],
   "source": [
    "3 - 4   # Subtraktion"
   ]
  },
  {
   "cell_type": "markdown",
   "id": "aa865ff3",
   "metadata": {},
   "source": [
    "### Daten\n",
    "\n",
    "Um zu verstehen, wie Daten in R funktionieren, nutzen wir als Beispiel ein klassisches Experiment aus der Psychologie: den Stroop Test. Die Grundidee lässt sich am leichtesten in einem Bild darstellen:\n",
    "\n",
    "<span style=\"color:blue\"> *Grün*</span> | <span style=\"color:red\"> *Blau* </span> | <span style=\"color:yellow\"> *Blau* </span> | <span style=\"color:Green\"> *Rot* </span>\n",
    "----- |----- | ----- |----- \n",
    "<span style=\"color:green\"> *Grün* </span> | <span style=\"color:yellow\"> *Gelb* </span> | <span style=\"color:red\"> *Rot* </span> | <span style=\"color:blue\"> *Grün*</span> "
   ]
  },
  {
   "cell_type": "markdown",
   "id": "64c44bf3",
   "metadata": {},
   "source": [
    "Der Stroop-Effekt ist der Unterschied zwischen der durchschnittlichen Zeit, die man benötigt um die Farbe zu nennen, in der ein Wort abgebildet ist - je nachdem ob die Farbe und das Wort gleich sind oder nicht. Wenn Sie über den Stroop Test mehr erfahren möchten, oder ihn selbst mal ausprobieren wollen, finden Sie bei [Psytoolkit](\"https://www.psytoolkit.org/lessons/stroop.html\") Informationen und eine Online-Variante des Tests."
   ]
  },
  {
   "cell_type": "markdown",
   "id": "1759a838",
   "metadata": {},
   "source": [
    "## Aufgaben\n",
    "\n",
    "```{admonition} R als Taschenrechner\n",
    ":class: dropdown\n",
    "    - Bestimmen Sie das Ergebnis von 3+7⋅12\n",
    "    - Prüfen Sie mit logischen Operatoren, ob das Ergebnis aus der letzten Aufgabe das Selbe ist, wie 3⋅29\n",
    "    - Bestimmen Sie √115 und legen Sie das (ganzzahlig) gerundete Ergebnis in einem Objekt namens zahl ab.\n",
    "    - Folgende Syntax verursacht einen Fehler: 6 * 1,56. Wodurch kommt dieser Fehler zustande?\n",
    "```\n"
   ]
  },
  {
   "cell_type": "markdown",
   "id": "786d714a",
   "metadata": {},
   "source": [
    "## Lösungen\n",
    "```{admonition} R als Taschenrechner\n",
    ":class: dropdown\n",
    "    - Bestimmen Sie das Ergebnis von 3+7⋅12\n",
    "```\n"
   ]
  }
 ],
 "metadata": {
  "celltoolbar": "Edit Metadata",
  "kernelspec": {
   "display_name": "R",
   "language": "R",
   "name": "ir"
  },
  "language_info": {
   "codemirror_mode": "r",
   "file_extension": ".r",
   "mimetype": "text/x-r-source",
   "name": "R",
   "pygments_lexer": "r",
   "version": "4.2.1"
  },
  "vscode": {
   "interpreter": {
    "hash": "d560ba8d507c54a01f2f7ed33b1ad7c3fc56f06723f11412b74cfa1ed27a6faa"
   }
  }
 },
 "nbformat": 4,
 "nbformat_minor": 5
}
